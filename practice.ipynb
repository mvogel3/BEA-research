{
 "cells": [
  {
   "cell_type": "code",
   "execution_count": 1,
   "id": "a385ed0e",
   "metadata": {},
   "outputs": [],
   "source": [
    "#  Dependencies and Setup\n",
    "import matplotlib.pyplot as plt\n",
    "import pandas as pd\n",
    "import numpy as np\n",
    "import requests\n",
    "import time"
   ]
  },
  {
   "cell_type": "code",
   "execution_count": 2,
   "id": "a5dab0a3",
   "metadata": {},
   "outputs": [],
   "source": [
    "#  Importing API key\n",
    "from api_keys import bea_api_key\n",
    "\n",
    "base_url = \"https://apps.bea.gov/api/data/\""
   ]
  },
  {
   "cell_type": "code",
   "execution_count": null,
   "id": "0ff9014e",
   "metadata": {},
   "outputs": [],
   "source": []
  }
 ],
 "metadata": {
  "kernelspec": {
   "display_name": "PythonData",
   "language": "python",
   "name": "pythondata"
  },
  "language_info": {
   "codemirror_mode": {
    "name": "ipython",
    "version": 3
   },
   "file_extension": ".py",
   "mimetype": "text/x-python",
   "name": "python",
   "nbconvert_exporter": "python",
   "pygments_lexer": "ipython3",
   "version": "3.10.11"
  }
 },
 "nbformat": 4,
 "nbformat_minor": 5
}

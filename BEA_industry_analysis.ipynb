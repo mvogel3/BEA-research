{
 "cells": [
  {
   "cell_type": "code",
   "execution_count": 8,
   "metadata": {},
   "outputs": [],
   "source": [
    "#  Dependencies and Setup\n",
    "import matplotlib.pyplot as plt\n",
    "import pandas as pd\n",
    "import numpy as np\n",
    "import requests\n",
    "import time\n",
    "import pprint\n",
    "\n",
    "#  Importing API key\n",
    "from api_keys import bea_api_key\n",
    "\n",
    "base_url = \"https://apps.bea.gov/api/data/\""
   ]
  },
  {
   "cell_type": "code",
   "execution_count": 9,
   "metadata": {},
   "outputs": [
    {
     "name": "stdout",
     "output_type": "stream",
     "text": [
      "BEA Client initialized\n"
     ]
    }
   ],
   "source": [
    "# BEA CLient for Industry Analysis\n",
    "\n",
    "class BEAClientIndustry:\n",
    "\n",
    "  def __init__(self, api_key):\n",
    "    self.api_key = api_key\n",
    "    self.base_url = base_url\n",
    "    self.common_params = {\n",
    "        'UserID': self.api_key,\n",
    "        'method': 'GetData',\n",
    "        'ResultFormat': 'JSON'\n",
    "    }\n",
    "    \n",
    "  def make_request(self, params):\n",
    "    try:\n",
    "      full_params = {**self.common_params, **params}\n",
    "      response = requests.get(self.base_url, params=full_params)\n",
    "      response.raise_for_status()\n",
    "      return response.json()\n",
    "    except requests.exceptions.RequestException as e:\n",
    "      print(f\"API request failed: {e}\")\n",
    "      return None\n",
    "\n",
    "  def get_gdp_industry_data(self, years=['2018', '2019', '2020', '2021', '2022', '2023']):\n",
    "\n",
    "    params = {\n",
    "        'datasetname': 'GDPbyIndustry',\n",
    "        'Year': ','.join(years),\n",
    "        'Industry': 'ALL',\n",
    "        'TableID': '5',  # Value Added by Industry\n",
    "        'Frequency': 'Q'  \n",
    "        }\n",
    "    return self.make_request(params)\n",
    "  \n",
    "# Initializing Client\n",
    "industry_analyzer = BEAClientIndustry(bea_api_key)\n",
    "print(\"BEA Client initialized\")"
   ]
  },
  {
   "cell_type": "code",
   "execution_count": 10,
   "metadata": {},
   "outputs": [],
   "source": [
    "def process_gdpIndustry_data(raw_data):\n",
    "  if not raw_data or 'BEAAPI' not in raw_data:\n",
    "    print('No Data Received. Invalid Input')\n",
    "    return None \n",
    "\n",
    "  try:\n",
    "    results = raw_data['BEAAPI']['Results']['Data']\n",
    "    processed_data = []\n",
    "    for item in results:\n",
    "      try:\n",
    "        value = float(item['DataValue'].replace(',', ''))\n",
    "      except (ValueError, AttributeError):\n",
    "        continue\n",
    "      processed_data.append({\n",
    "          'Industry % of GDP': value,\n",
    "          'Industry Description': item['IndustrYDescription'],\n",
    "          'Industry': item['Industry'],\n",
    "          'NoteRef': item['NoteRef'],\n",
    "          'Quarter': item['Quarter'],\n",
    "          'TableID': item['TableID'],\n",
    "          'Year': item['Year']\n",
    "          # 'TableName': item.get('TableName', 'Unknown')\n",
    "          })\n",
    "    gdp_by_industry_df = pd.DataFrame(processed_data)\n",
    "\n",
    "    return gdp_by_industry_df\n",
    "\n",
    "  except Exception as e:\n",
    "    print(f\"Error processing data: {e}\")\n",
    "    return None"
   ]
  },
  {
   "cell_type": "code",
   "execution_count": null,
   "metadata": {},
   "outputs": [],
   "source": []
  }
 ],
 "metadata": {
  "kernelspec": {
   "display_name": "PythonData",
   "language": "python",
   "name": "python3"
  },
  "language_info": {
   "codemirror_mode": {
    "name": "ipython",
    "version": 3
   },
   "file_extension": ".py",
   "mimetype": "text/x-python",
   "name": "python",
   "nbconvert_exporter": "python",
   "pygments_lexer": "ipython3",
   "version": "3.10.11"
  },
  "orig_nbformat": 4,
  "vscode": {
   "interpreter": {
    "hash": "9700bc1751310d7b3f3095390ff586949819a5ef0ff8297d04042748928be610"
   }
  }
 },
 "nbformat": 4,
 "nbformat_minor": 2
}

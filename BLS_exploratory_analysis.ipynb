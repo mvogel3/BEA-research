{
 "cells": [
  {
   "cell_type": "code",
   "execution_count": 1,
   "id": "de31fef7",
   "metadata": {},
   "outputs": [],
   "source": [
    "#  Dependencies and Setup\n",
    "import requests\n",
    "import json\n",
    "import pandas as pd"
   ]
  },
  {
   "cell_type": "code",
   "execution_count": 2,
   "id": "ad0ce2fe",
   "metadata": {},
   "outputs": [],
   "source": [
    "# API Key\n",
    "from api_keys import bls_api_key\n",
    "base_url = \"https://api.bls.gov/publicAPI/v2/timeseries/data/\"\n",
    "\n",
    "# Basic request structure\n",
    "headers = {'Content-type': 'application/json'}"
   ]
  },
  {
   "cell_type": "code",
   "execution_count": null,
   "id": "5cceaf2f",
   "metadata": {},
   "outputs": [],
   "source": []
  }
 ],
 "metadata": {
  "kernelspec": {
   "display_name": "PythonData",
   "language": "python",
   "name": "python3"
  },
  "language_info": {
   "codemirror_mode": {
    "name": "ipython",
    "version": 3
   },
   "file_extension": ".py",
   "mimetype": "text/x-python",
   "name": "python",
   "nbconvert_exporter": "python",
   "pygments_lexer": "ipython3",
   "version": "3.10.11"
  },
  "vscode": {
   "interpreter": {
    "hash": "9700bc1751310d7b3f3095390ff586949819a5ef0ff8297d04042748928be610"
   }
  }
 },
 "nbformat": 4,
 "nbformat_minor": 5
}
